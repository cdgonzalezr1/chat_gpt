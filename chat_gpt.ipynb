{
 "cells": [
  {
   "cell_type": "code",
   "execution_count": 2,
   "metadata": {},
   "outputs": [],
   "source": [
    "from pyChatGPT import ChatGPT\n",
    "\n",
    "session_token = \"eyJhbGciOiJkaXIiLCJlbmMiOiJBMjU2R0NNIn0..nk0bDeuWTNAtDtkZ.-_LGnBkYpOlDAxitMhHCKtLcmIek3WLsRdpxZg7dgkDFh0jFtLC8njrLstMzST8O1Vrg3eN41Eujv3N3S8lYPVtfjV8yoKML2pgrwih5ir6Z7F3i2hJ0BD9ymeFLpkFDbD3PlCYgJdiblCIZBQw6lRg23eazBP7WZnnco03g4LOkrvfl69NhKHVHuLt-v0IcIq1vKWGoN8jLHpaaOwD7he3ypG66DaerNTG3AMz-1KZYlnK8m2n5Cn77lGJjbEbdj_oG-kDn_HrkHxYtUppO8VGed4LqAYVwj0VONMZ16Y0R70oI2IiJy9RbrZtPB6wDTpNqX9sXofeWC5mw8Nw8UY9s4hyA-FU6m9ZquXB4MOIPWsG_1X2iYxJBMZbxOQf1QbAShhsxlJPPVNgNzwUdS4KFZfczqJaZUHIWcAJwgW25Qh4OFxsTCQrYaQKkxqRjeS_PWvJ_o40G1nYdhIBZ4UwqaBvNHmLI-LlZlrUUNNAUshfhaypb6UUQfw1jUeNARJu1-4VE8IJjSh-5V9nGMknM_HyxtW-i1mV41y_bhkrFOdOmcyK0svHCvL6Lyzjz7wTQIKOXldERZKatrayAsv-mUJD9aUNBg7NohLsis4HdiIqOkC7x524pgqOnmDZS_FMx_gINA6tkOA8TuTAGSBgtv17voeEm0BrxWEeSNJOjoND5651m8QmsU4BbmSm-ntI0D2dUg-Z0c4whtK0vbyUG5kzdSSvUeDsv_MokIe6RjGf_lQGz8VV9w3wa7D-Jk_gWCiZcaAZtmT3QTwHbW_r7k6tWtnPQaWnPk9_U_z3wcL9ZD2guAM-SlOOT8ePWLuK7BKDo3tihYDNLllk5XLg7nWOPrDHodMbkrcKpwvkTVDQwsLaL2Wqz1itddaVLhejNkTujfIUu2urh_zWNnIFmlTmBWsoFQA5hI-K0OUxC_gRFuFLoZcRs8utPZDoXhdEBMTRQ2hXsUoR1IVUrDlF_E8BmqszWAtJYGvO8-tXXi8iHEmx-Yji84Otio4dD0XQmbnYtKyz0KUOBkJ7r1rV_PKdyG4RTC_r70V9hlzH_hWO0aJhJGqZpBYPIxT8oBXsHjOO5jUaVgPkehh7CgdpBAPjKS9JucSI5pHjL16pO6tPJ_CrKWIYMEnnNumP3VLXaLWSegVnTNvjPOExyxflvp2271L_M2tmyT4xrKUZxHW2raHFZ6_LuYGiPcgSGVTwMrQQtacwxcN4zQAXlngnuwdXl7WUsz495rQCgDz_NFvdxmY-x0q__QVrY6fESerw056x_o5_zi-lHU35NrNlTTvUcmLuO0bc8u7z8XP-43Gk4gxo1kQoGTZx0rS38_zy5qtYKkoCGgd1UqbEfvtp4XsjYKlxC2HFoTddzqY1VZ2MDRukGnbsv2PbYAFM3opTuScxVbKRKn6SksWEa2ynoyDsfzw1P26bD_KPfyOCGHUS3t2kX3y-t1wPBV0rBII6p7biTv238wrwr87Pxp8uOlkJdNUVonAYsnjFIipdyJ7rvpMp_lN4OjGi02MszX2IeU5bshH9sXhXI9z-ZImV-WUEhsQ5YfHanmXASGs-35AhRJd1FuBIh_m046dRJAiuCVro9IaoZcneCRJm5gzWP2-8S3-YyU0F6wdQRk5vjCoaa1sB1xvKPh6B5CKnOHtQIeBWHQf0CSamukwBmLb8hlKz6MAgOvteF10MWrNffeZM_rvlqnXrdXm5gXtekhqJJCxu3nEdFGPaV_CcqX_qPKRRoxF2TjEXGNerte2I1eC8LuvX_2Xlm-QRD4ByfdEyeh4oc1AnnOzMYUJGJdYMXd05oiS1jpHaHuWV-MS-YPIIudxK5viUhYjcdbXmTJLpFT3kCYVdkIXDg5hDRQhh7I59YCB81kCGn3X50IF8NalR6FdkmV3o_nyFtObOaIap6jch9nU_VQSssxv_t_nQu9WzucshwzSmG0nN0WHjhLrdowrKVcsvvyjxwXm5g7vr50rCTMvptq4VdqDO0ltkAn4t-VRjg1KQI1luibN9g_ZbzbZs1paPm3CvXziFp4cB-yhEHNFBK4qKkJTjt-lbtnJ0uWNt4sVK3RSPGm3aoZnek_yycPpnHrnfGkRJvcSnOYnk9V-PS8WIIf5KH6ECMuPlnuKt-DQVT6KtlZ4go_W4Rf_BLce9RwgwVREJIYBf0NBkF6Lny-f4rwl2N8p4zGZUN9dkb--kwfImQcXKRdicw6VZ8ZPTs62frkTyLpUGCgekaDpNxBzZXZpELLLikFsGqlaWkwApUznEbpZLiR0owu__GrFkbLqOSYvJkHIVl1ocznds0aWry6OILGZjHpPHHgwM_qGeKjrUAu0fybkT6-ddY3IywEt391Ilk-lqJ0N_j-N8hsXB7IQYSk6JsXfUxefmIiQ.FsA9vTNfF0EQZgT43B-tWA\"\n",
    "api = ChatGPT(session_token)"
   ]
  },
  {
   "cell_type": "code",
   "execution_count": 6,
   "metadata": {},
   "outputs": [],
   "source": [
    "response = api.send_message(\"Explicale ciencia de datos a un niño de 5 años\")"
   ]
  },
  {
   "cell_type": "code",
   "execution_count": 7,
   "metadata": {},
   "outputs": [
    {
     "name": "stdout",
     "output_type": "stream",
     "text": [
      "La ciencia de datos es un campo que involucra el uso de herramientas y técnicas de informática, estadística y otras disciplinas relacionadas para estudiar y entender los datos. Es un poco como un rompecabezas donde tienes que descubrir los patrones e ideas ocultos en los datos, y utilizar esa información para tomar mejores decisiones o resolver problemas. Por ejemplo, un científico de datos podría usar datos para predecir el clima, o para ayudar a una empresa a averiguar qué productos vender. Es un campo muy interesante y importante que nos ayuda a aprender más sobre el mundo que nos rodea.\n"
     ]
    }
   ],
   "source": [
    "print(response[\"message\"])"
   ]
  }
 ],
 "metadata": {
  "kernelspec": {
   "display_name": "Python 3.9.2 64-bit",
   "language": "python",
   "name": "python3"
  },
  "language_info": {
   "codemirror_mode": {
    "name": "ipython",
    "version": 3
   },
   "file_extension": ".py",
   "mimetype": "text/x-python",
   "name": "python",
   "nbconvert_exporter": "python",
   "pygments_lexer": "ipython3",
   "version": "3.9.2"
  },
  "orig_nbformat": 4,
  "vscode": {
   "interpreter": {
    "hash": "916dbcbb3f70747c44a77c7bcd40155683ae19c65e1c03b4aa3499c5328201f1"
   }
  }
 },
 "nbformat": 4,
 "nbformat_minor": 2
}
